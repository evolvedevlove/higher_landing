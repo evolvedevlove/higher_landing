{
 "cells": [
  {
   "cell_type": "markdown",
   "metadata": {},
   "source": [
    "This is a code break down for the land_scrape.py script located in this repository. For further context, please see my LinkedIn article (link here) and the accompanying Youtube video. (link here)"
   ]
  },
  {
   "cell_type": "markdown",
   "metadata": {},
   "source": [
    "The goal of this code break down is to be descriptive and accessible to any reader. If you are a tech nerd and you see a glaring issue in the way I have architected this solution, please make a pull request or reach and let me know. (email address)"
   ]
  },
  {
   "cell_type": "code",
   "execution_count": 16,
   "metadata": {},
   "outputs": [],
   "source": [
    "''' There are a whole bunch of handy features from Selenium needed to drive our browser and control the pace of execution. '''\n",
    "from selenium import webdriver as wd\n",
    "from selenium.webdriver.chrome.service import Service\n",
    "from selenium.webdriver.support.ui import WebDriverWait\n",
    "from selenium.webdriver.support import expected_conditions as EC\n",
    "from selenium.webdriver.common.by import By"
   ]
  },
  {
   "cell_type": "markdown",
   "metadata": {},
   "source": [
    "For the sake of readibility in this breakdown, I will import libraries as they are used. Let's open up a browser and move it to the side."
   ]
  },
  {
   "cell_type": "code",
   "execution_count": 17,
   "metadata": {},
   "outputs": [
    {
     "data": {
      "text/plain": [
       "{'height': 1100, 'width': 1200, 'x': 930, 'y': 0}"
      ]
     },
     "execution_count": 17,
     "metadata": {},
     "output_type": "execute_result"
    }
   ],
   "source": [
    "''' open a new chrome browser using the webdriver service '''\n",
    "chromedriver_service = Service('./chromedriver.exe')\n",
    "browser = wd.Chrome(service=chromedriver_service)\n",
    "browser.set_window_rect(x=930, y=0, width=1200, height=1125) # this is specific to my monitor"
   ]
  },
  {
   "cell_type": "markdown",
   "metadata": {},
   "source": [
    "Now that we have a browser, we could go the events page on the Higher Landing website. For the sake of security, I have stored all credentials and sensitive information into a JSON file. Loading this JSON into a Python dictionary object allows us to use key/value pairs to access private data."
   ]
  },
  {
   "cell_type": "code",
   "execution_count": 18,
   "metadata": {},
   "outputs": [
    {
     "name": "stdout",
     "output_type": "stream",
     "text": [
      "dict_keys(['base_path', 'user_name', 'user_password', 'required_sessions_file', 'events_url', 'locators'])\n"
     ]
    }
   ],
   "source": [
    "import json\n",
    "''' get secret test information from a json file '''\n",
    "base_path = r\"H:\\2021-11-03-HIGHER-LANDING\\\\\"\n",
    "test_info_file_name = 'secret_test_info.json'\n",
    "with open(base_path + './' + test_info_file_name, 'r') as t_f:\n",
    "    json_string = t_f.read()\n",
    "test_info_dict = json.loads(json_string)\n",
    "print(test_info_dict.keys())"
   ]
  },
  {
   "cell_type": "markdown",
   "metadata": {},
   "source": [
    "The keys listed above will be used for data access and field location. Below, we __get__ the value of the events url from our test info dictionary and then use the browser's __get__ function to load the url. "
   ]
  },
  {
   "cell_type": "code",
   "execution_count": 19,
   "metadata": {},
   "outputs": [],
   "source": [
    "''' open the browser to the events page of the course '''\n",
    "url = test_info_dict.get('events_url')\n",
    "browser.get(url)"
   ]
  },
  {
   "cell_type": "markdown",
   "metadata": {},
   "source": [
    "This will take us to the log in page, but it is good practice to make the browser wait until everything is loaded. The WebdriverWait module is used to achieve this. Let's wait until the Log In button is ready to click. "
   ]
  },
  {
   "cell_type": "code",
   "execution_count": 20,
   "metadata": {},
   "outputs": [],
   "source": [
    "''' wait until we can click on the log in button'''\n",
    "waiter = WebDriverWait(browser, 10)\n",
    "ready_for_input = waiter.until(EC.element_to_be_clickable((\n",
    "    By.ID, test_info_dict.get('locators').get('login_submit_button'))))"
   ]
  },
  {
   "cell_type": "markdown",
   "metadata": {},
   "source": [
    "The By.ID selector is used multiple times here in conjunction with the locators from our test info dictionary. Selenium's find element function returns an html element that can be interacted with."
   ]
  },
  {
   "cell_type": "code",
   "execution_count": 21,
   "metadata": {},
   "outputs": [],
   "source": [
    "''' enter the user name and password by using locators, all data is stored in test_info_dict '''\n",
    "user_name_field = browser.find_element(By.ID, test_info_dict.get('locators').get('user_name_field'))\n",
    "user_name_field.send_keys(test_info_dict.get('user_name'))\n",
    "user_password_field = browser.find_element(By.ID, test_info_dict.get('locators').get('user_pass_field'))\n",
    "user_password_field.send_keys(test_info_dict.get('user_password'))\n",
    "\n",
    "''' locate the login button and click it '''\n",
    "login_button = browser.find_element(By.ID, test_info_dict.get('locators').get('login_submit_button'))\n",
    "login_button.click()"
   ]
  },
  {
   "cell_type": "markdown",
   "metadata": {},
   "source": [
    "Since we directly loaded the event page url, we will wait for the Upcoming Events link to be ready before clicking it."
   ]
  },
  {
   "cell_type": "code",
   "execution_count": 22,
   "metadata": {},
   "outputs": [],
   "source": [
    "''' wait until the Upcoming Events link is ready to be clicked '''\n",
    "upcoming_events_locator = test_info_dict.get('locators').get('upcoming_events_link')\n",
    "calendar_ready = waiter.until(EC.element_to_be_clickable((By.ID, upcoming_events_locator)))\n",
    "upcoming_events_link = browser.find_element(By.ID, upcoming_events_locator)\n",
    "upcoming_events_link.click()"
   ]
  },
  {
   "cell_type": "code",
   "execution_count": null,
   "metadata": {},
   "outputs": [],
   "source": []
  }
 ],
 "metadata": {
  "kernelspec": {
   "display_name": "Python 3",
   "language": "python",
   "name": "python3"
  },
  "language_info": {
   "codemirror_mode": {
    "name": "ipython",
    "version": 3
   },
   "file_extension": ".py",
   "mimetype": "text/x-python",
   "name": "python",
   "nbconvert_exporter": "python",
   "pygments_lexer": "ipython3",
   "version": "3.8.3"
  }
 },
 "nbformat": 4,
 "nbformat_minor": 4
}
